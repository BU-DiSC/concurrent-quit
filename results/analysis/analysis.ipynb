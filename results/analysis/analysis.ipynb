{
 "cells": [
  {
   "cell_type": "code",
   "execution_count": 18,
   "id": "4b599a73-8581-46ec-a7ca-56dee6a5fda6",
   "metadata": {},
   "outputs": [],
   "source": [
    "import sqlite3\n",
    "import os\n",
    "import polars as pl\n",
    "import plot\n",
    "import matplotlib.pyplot as plt\n",
    "import numpy as np"
   ]
  },
  {
   "cell_type": "markdown",
   "id": "1a2a6af7-3d38-4ec8-8dbd-fecfb922e362",
   "metadata": {},
   "source": [
    "## Connect + Read from Database"
   ]
  },
  {
   "cell_type": "markdown",
   "id": "eae5d00a-2db5-452c-ab31-10fe0c1424fe",
   "metadata": {},
   "source": [
    "### Set connection parameters"
   ]
  },
  {
   "cell_type": "code",
   "execution_count": 2,
   "id": "a0c41028-743e-408b-9b94-029b14322c98",
   "metadata": {},
   "outputs": [],
   "source": [
    "db_dir = \"/scratch/aneeshr/concurrent-quit/results/db\"\n",
    "db_name = \"sample_db\"\n",
    "db_path = db_dir + \"/\" + db_name"
   ]
  },
  {
   "cell_type": "code",
   "execution_count": 3,
   "id": "d631b937-c362-4b3b-b0a2-44f30b0bd40b",
   "metadata": {},
   "outputs": [],
   "source": [
    "connection = sqlite3.connect(db_path)"
   ]
  },
  {
   "cell_type": "markdown",
   "id": "c25b24b4-18a4-4354-a9f4-f0e70d23f7e7",
   "metadata": {},
   "source": [
    "### Set the date/timestamp to read"
   ]
  },
  {
   "cell_type": "code",
   "execution_count": 4,
   "id": "118ce186-aef1-47a7-806d-10e7c3cc3c87",
   "metadata": {},
   "outputs": [],
   "source": [
    "date_to_read = \"2025-04-24\""
   ]
  },
  {
   "cell_type": "code",
   "execution_count": 5,
   "id": "045bb943-a7cc-4323-929c-f13ac35f7239",
   "metadata": {},
   "outputs": [],
   "source": [
    "read_index_bench_query = f\"SELECT * from index_bench where timestamp > {date_to_read};\""
   ]
  },
  {
   "cell_type": "markdown",
   "id": "baed9cba-1cd2-410b-8b87-088b16f0b445",
   "metadata": {},
   "source": [
    "### Read the data"
   ]
  },
  {
   "cell_type": "code",
   "execution_count": 6,
   "id": "4fd50ae8-ca47-4acf-9bce-be778ac2bcd7",
   "metadata": {},
   "outputs": [],
   "source": [
    "df = pl.read_database(\n",
    "    query = read_index_bench_query, \n",
    "    connection = connection)"
   ]
  },
  {
   "cell_type": "markdown",
   "id": "77f2d0bf-a61d-4cbf-95f3-d372bb3bce1f",
   "metadata": {},
   "source": [
    "### Sample Read Data"
   ]
  },
  {
   "cell_type": "code",
   "execution_count": 7,
   "id": "1e1956e4-c45f-4775-a11e-affd8853e654",
   "metadata": {},
   "outputs": [],
   "source": [
    "filter_col = \"index_type\"\n",
    "filter_predicate = \"simple\""
   ]
  },
  {
   "cell_type": "code",
   "execution_count": 8,
   "id": "2c78ad02-c5d3-4531-83f9-84615bcd08bb",
   "metadata": {},
   "outputs": [],
   "source": [
    "sample_filtered_result = df.filter(pl.col(filter_col) == filter_predicate)"
   ]
  },
  {
   "cell_type": "code",
   "execution_count": 9,
   "id": "4c4cdd9a-fb6d-4f1c-ad14-f60e66de33a6",
   "metadata": {},
   "outputs": [
    {
     "data": {
      "text/html": [
       "<div><style>\n",
       ".dataframe > thead > tr,\n",
       ".dataframe > tbody > tr {\n",
       "  text-align: right;\n",
       "  white-space: pre-wrap;\n",
       "}\n",
       "</style>\n",
       "<small>shape: (8, 25)</small><table border=\"1\" class=\"dataframe\"><thead><tr><th>id</th><th>timestamp</th><th>index_type</th><th>workload_file</th><th>N</th><th>K</th><th>L</th><th>preload_time</th><th>raw_writes_time</th><th>raw_reads_time</th><th>mixed_time</th><th>updates_time</th><th>short_range_time</th><th>mid_range_time</th><th>long_range_time</th><th>size</th><th>height</th><th>internal</th><th>leaves</th><th>fast_inserts</th><th>redistribute</th><th>soft_resets</th><th>hard_resets</th><th>fast_inserts_fail</th><th>sort</th></tr><tr><td>i64</td><td>str</td><td>str</td><td>str</td><td>i64</td><td>i64</td><td>i64</td><td>i64</td><td>i64</td><td>i64</td><td>i64</td><td>i64</td><td>i64</td><td>i64</td><td>i64</td><td>i64</td><td>i64</td><td>i64</td><td>i64</td><td>i64</td><td>i64</td><td>i64</td><td>i64</td><td>i64</td><td>i64</td></tr></thead><tbody><tr><td>1</td><td>&quot;2025-04-24 17:29:26.316907+00:…</td><td>&quot;simple&quot;</td><td>&quot;5_100_100&quot;</td><td>5</td><td>100</td><td>100</td><td>2087239822</td><td>0</td><td>0</td><td>0</td><td>0</td><td>0</td><td>0</td><td>0</td><td>5000000</td><td>2</td><td>34</td><td>15293</td><td>0</td><td>0</td><td>0</td><td>0</td><td>0</td><td>0</td></tr><tr><td>2</td><td>&quot;2025-04-24 17:29:28.553915+00:…</td><td>&quot;simple&quot;</td><td>&quot;5_10_100&quot;</td><td>5</td><td>10</td><td>100</td><td>1270100003</td><td>0</td><td>0</td><td>0</td><td>0</td><td>0</td><td>0</td><td>0</td><td>5000000</td><td>2</td><td>67</td><td>18115</td><td>0</td><td>0</td><td>0</td><td>0</td><td>0</td><td>0</td></tr><tr><td>3</td><td>&quot;2025-04-24 17:29:30.931988+00:…</td><td>&quot;simple&quot;</td><td>&quot;5_1_100&quot;</td><td>5</td><td>1</td><td>100</td><td>1181074016</td><td>0</td><td>0</td><td>0</td><td>0</td><td>0</td><td>0</td><td>0</td><td>5000000</td><td>2</td><td>75</td><td>19434</td><td>0</td><td>0</td><td>0</td><td>0</td><td>0</td><td>0</td></tr><tr><td>4</td><td>&quot;2025-04-24 17:29:33.287729+00:…</td><td>&quot;simple&quot;</td><td>&quot;5_25_100&quot;</td><td>5</td><td>25</td><td>100</td><td>1393052532</td><td>0</td><td>0</td><td>0</td><td>0</td><td>0</td><td>0</td><td>0</td><td>5000000</td><td>2</td><td>56</td><td>16410</td><td>0</td><td>0</td><td>0</td><td>0</td><td>0</td><td>0</td></tr><tr><td>5</td><td>&quot;2025-04-24 17:29:35.529950+00:…</td><td>&quot;simple&quot;</td><td>&quot;5_3_100&quot;</td><td>5</td><td>3</td><td>100</td><td>1205100801</td><td>0</td><td>0</td><td>0</td><td>0</td><td>0</td><td>0</td><td>0</td><td>5000000</td><td>2</td><td>74</td><td>19091</td><td>0</td><td>0</td><td>0</td><td>0</td><td>0</td><td>0</td></tr><tr><td>6</td><td>&quot;2025-04-24 17:29:38.141628+00:…</td><td>&quot;simple&quot;</td><td>&quot;5_50_100&quot;</td><td>5</td><td>50</td><td>100</td><td>1575859515</td><td>0</td><td>0</td><td>0</td><td>0</td><td>0</td><td>0</td><td>0</td><td>5000000</td><td>2</td><td>47</td><td>14660</td><td>0</td><td>0</td><td>0</td><td>0</td><td>0</td><td>0</td></tr><tr><td>7</td><td>&quot;2025-04-24 17:29:40.565942+00:…</td><td>&quot;simple&quot;</td><td>&quot;5_5_100&quot;</td><td>5</td><td>5</td><td>100</td><td>1220262327</td><td>0</td><td>0</td><td>0</td><td>0</td><td>0</td><td>0</td><td>0</td><td>5000000</td><td>2</td><td>73</td><td>18795</td><td>0</td><td>0</td><td>0</td><td>0</td><td>0</td><td>0</td></tr><tr><td>8</td><td>&quot;2025-04-24 17:29:42.791200+00:…</td><td>&quot;simple&quot;</td><td>&quot;5_0_0&quot;</td><td>5</td><td>0</td><td>0</td><td>1035090396</td><td>0</td><td>0</td><td>0</td><td>0</td><td>0</td><td>0</td><td>0</td><td>5000000</td><td>2</td><td>76</td><td>19607</td><td>0</td><td>0</td><td>0</td><td>0</td><td>0</td><td>0</td></tr></tbody></table></div>"
      ],
      "text/plain": [
       "shape: (8, 25)\n",
       "┌─────┬─────────────┬────────────┬─────────────┬───┬─────────────┬─────────────┬────────────┬──────┐\n",
       "│ id  ┆ timestamp   ┆ index_type ┆ workload_fi ┆ … ┆ soft_resets ┆ hard_resets ┆ fast_inser ┆ sort │\n",
       "│ --- ┆ ---         ┆ ---        ┆ le          ┆   ┆ ---         ┆ ---         ┆ ts_fail    ┆ ---  │\n",
       "│ i64 ┆ str         ┆ str        ┆ ---         ┆   ┆ i64         ┆ i64         ┆ ---        ┆ i64  │\n",
       "│     ┆             ┆            ┆ str         ┆   ┆             ┆             ┆ i64        ┆      │\n",
       "╞═════╪═════════════╪════════════╪═════════════╪═══╪═════════════╪═════════════╪════════════╪══════╡\n",
       "│ 1   ┆ 2025-04-24  ┆ simple     ┆ 5_100_100   ┆ … ┆ 0           ┆ 0           ┆ 0          ┆ 0    │\n",
       "│     ┆ 17:29:26.31 ┆            ┆             ┆   ┆             ┆             ┆            ┆      │\n",
       "│     ┆ 6907+00:…   ┆            ┆             ┆   ┆             ┆             ┆            ┆      │\n",
       "│ 2   ┆ 2025-04-24  ┆ simple     ┆ 5_10_100    ┆ … ┆ 0           ┆ 0           ┆ 0          ┆ 0    │\n",
       "│     ┆ 17:29:28.55 ┆            ┆             ┆   ┆             ┆             ┆            ┆      │\n",
       "│     ┆ 3915+00:…   ┆            ┆             ┆   ┆             ┆             ┆            ┆      │\n",
       "│ 3   ┆ 2025-04-24  ┆ simple     ┆ 5_1_100     ┆ … ┆ 0           ┆ 0           ┆ 0          ┆ 0    │\n",
       "│     ┆ 17:29:30.93 ┆            ┆             ┆   ┆             ┆             ┆            ┆      │\n",
       "│     ┆ 1988+00:…   ┆            ┆             ┆   ┆             ┆             ┆            ┆      │\n",
       "│ 4   ┆ 2025-04-24  ┆ simple     ┆ 5_25_100    ┆ … ┆ 0           ┆ 0           ┆ 0          ┆ 0    │\n",
       "│     ┆ 17:29:33.28 ┆            ┆             ┆   ┆             ┆             ┆            ┆      │\n",
       "│     ┆ 7729+00:…   ┆            ┆             ┆   ┆             ┆             ┆            ┆      │\n",
       "│ 5   ┆ 2025-04-24  ┆ simple     ┆ 5_3_100     ┆ … ┆ 0           ┆ 0           ┆ 0          ┆ 0    │\n",
       "│     ┆ 17:29:35.52 ┆            ┆             ┆   ┆             ┆             ┆            ┆      │\n",
       "│     ┆ 9950+00:…   ┆            ┆             ┆   ┆             ┆             ┆            ┆      │\n",
       "│ 6   ┆ 2025-04-24  ┆ simple     ┆ 5_50_100    ┆ … ┆ 0           ┆ 0           ┆ 0          ┆ 0    │\n",
       "│     ┆ 17:29:38.14 ┆            ┆             ┆   ┆             ┆             ┆            ┆      │\n",
       "│     ┆ 1628+00:…   ┆            ┆             ┆   ┆             ┆             ┆            ┆      │\n",
       "│ 7   ┆ 2025-04-24  ┆ simple     ┆ 5_5_100     ┆ … ┆ 0           ┆ 0           ┆ 0          ┆ 0    │\n",
       "│     ┆ 17:29:40.56 ┆            ┆             ┆   ┆             ┆             ┆            ┆      │\n",
       "│     ┆ 5942+00:…   ┆            ┆             ┆   ┆             ┆             ┆            ┆      │\n",
       "│ 8   ┆ 2025-04-24  ┆ simple     ┆ 5_0_0       ┆ … ┆ 0           ┆ 0           ┆ 0          ┆ 0    │\n",
       "│     ┆ 17:29:42.79 ┆            ┆             ┆   ┆             ┆             ┆            ┆      │\n",
       "│     ┆ 1200+00:…   ┆            ┆             ┆   ┆             ┆             ┆            ┆      │\n",
       "└─────┴─────────────┴────────────┴─────────────┴───┴─────────────┴─────────────┴────────────┴──────┘"
      ]
     },
     "execution_count": 9,
     "metadata": {},
     "output_type": "execute_result"
    }
   ],
   "source": [
    "sample_filtered_result"
   ]
  },
  {
   "cell_type": "markdown",
   "id": "a0d2b0e8-2df9-492a-baa4-17152d56464b",
   "metadata": {},
   "source": [
    "## Analysis"
   ]
  },
  {
   "cell_type": "markdown",
   "id": "5b3b4180-bf32-477f-9191-c98fb458b847",
   "metadata": {},
   "source": [
    "### Preload times"
   ]
  },
  {
   "cell_type": "code",
   "execution_count": 10,
   "id": "acc0fa5e-63aa-49d0-9eb6-18f04636a9a5",
   "metadata": {},
   "outputs": [],
   "source": [
    "preload_df = df.select(\n",
    "                pl.col(\"index_type\"), \n",
    "                pl.col(\"K\"),\n",
    "                pl.col(\"preload_time\")\n",
    ")"
   ]
  },
  {
   "cell_type": "code",
   "execution_count": 20,
   "id": "8e87e926-800d-42f5-bba2-2d715beff967",
   "metadata": {},
   "outputs": [],
   "source": [
    "# fetch index types\n",
    "index_types = df[\"index_type\"].unique().to_list()\n",
    "\n",
    "# filter and group dfs by index types\n",
    "grouped_dfs = {}\n",
    "for index in index_types:\n",
    "    filtered_df = preload_df.filter(pl.col(\"index_type\") == index).sort(\"K\")\n",
    "    grouped_dfs[index] = filtered_df\n",
    "\n",
    "k_values = sorted(preload_df[\"K\"].unique().to_list())"
   ]
  },
  {
   "cell_type": "code",
   "execution_count": 21,
   "id": "a1a4ae03-59f3-4adb-bae9-4b6693e9fb89",
   "metadata": {},
   "outputs": [
    {
     "data": {
      "image/png": "[encoded data removed]",
      "text/plain": [
       "<Figure size 1000x600 with 1 Axes>"
      ]
     },
     "metadata": {},
     "output_type": "display_data"
    }
   ],
   "source": [
    "x_positions = np.arange(len(k_values))\n",
    "\n",
    "plt.figure(figsize=(10,6))\n",
    "\n",
    "for index, index_df in grouped_dfs.items():\n",
    "    plt.plot(x_positions, index_df[\"preload_time\"], label=index)\n",
    "\n",
    "plt.xticks(x_positions, k_values)\n",
    "plt.xlabel(\"K\")\n",
    "plt.ylabel(\"Preload Time (ns)\")\n",
    "plt.legend()\n",
    "plt.show()"
   ]
  },
  {
   "cell_type": "code",
   "execution_count": null,
   "id": "d4f1afb2-ab72-4444-a3c9-11af2c24d998",
   "metadata": {},
   "outputs": [],
   "source": []
  }
 ],
 "metadata": {
  "kernelspec": {
   "display_name": "Python 3 (ipykernel)",
   "language": "python",
   "name": "python3"
  },
  "language_info": {
   "codemirror_mode": {
    "name": "ipython",
    "version": 3
   },
   "file_extension": ".py",
   "mimetype": "text/x-python",
   "name": "python",
   "nbconvert_exporter": "python",
   "pygments_lexer": "ipython3",
   "version": "3.13.3"
  }
 },
 "nbformat": 4,
 "nbformat_minor": 5
}
